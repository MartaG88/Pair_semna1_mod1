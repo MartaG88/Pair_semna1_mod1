{
 "cells": [
  {
   "cell_type": "code",
   "execution_count": 7,
   "metadata": {},
   "outputs": [
    {
     "name": "stdout",
     "output_type": "stream",
     "text": [
      "el numero es positivo\n"
     ]
    }
   ],
   "source": [
    "#1 Verificar si un número es positivo, negativo o cero\n",
    "#Descripción: Dado un número, verifica si es positivo, negativo o cero\n",
    "numero = 3\n",
    "if numero < 0:\n",
    "    print(\"el número es negativo\")\n",
    "elif numero > 0:\n",
    "    print(\"el numero es positivo\")\n",
    "else:\n",
    "    print(\" el numero es cero\")"
   ]
  },
  {
   "cell_type": "code",
   "execution_count": 8,
   "metadata": {},
   "outputs": [
    {
     "name": "stdout",
     "output_type": "stream",
     "text": [
      "es un número impar\n"
     ]
    }
   ],
   "source": [
    "#Verificar si un número es par o impar\n",
    "#Descripción: Dado un número, verifica si es par o impar.\n",
    "if numero % 2 == 0:\n",
    "    print(\"es un número par\")\n",
    "else:\n",
    "    print(\"es un número impar\")"
   ]
  },
  {
   "cell_type": "code",
   "execution_count": 9,
   "metadata": {},
   "outputs": [
    {
     "name": "stdout",
     "output_type": "stream",
     "text": [
      "!estás aprobada!\n"
     ]
    }
   ],
   "source": [
    "#3 Verificar si un estudiante aprobó o suspendió un examen\n",
    "#Descripción: Dada la calificación de un estudiante en un examen, \n",
    "# verifica si aprobó o suspendió (si la calificación es mayor o igual a 60 se considera aprobado).\n",
    "calificacion = 100\n",
    "if calificacion >= 60:\n",
    "    print(\"!estás aprobada!\")\n",
    "else:\n",
    "    print(\"ohhh, has suspendido\")"
   ]
  },
  {
   "cell_type": "code",
   "execution_count": 10,
   "metadata": {},
   "outputs": [
    {
     "name": "stdout",
     "output_type": "stream",
     "text": [
      "30 es mayor que 15\n"
     ]
    }
   ],
   "source": [
    "#4 Calcular el máximo entre dos números\n",
    "#Descripción: Dados dos números, encuentra el máximo entre ellos.\n",
    "numero1 = 30\n",
    "numero2 = 15\n",
    "if numero1 > numero2:\n",
    "    print(numero1, \"es mayor que\", numero2)\n",
    "elif numero2 > numero1:\n",
    "    print(numero2, \"es mayor que\", numero1)\n",
    "else: \n",
    "    print(\"dato invalido\")\n"
   ]
  },
  {
   "cell_type": "code",
   "execution_count": 13,
   "metadata": {},
   "outputs": [
    {
     "name": "stdout",
     "output_type": "stream",
     "text": [
      "es una consonante\n"
     ]
    }
   ],
   "source": [
    "#5 Verificar si una letra es una vocal o una consonante\n",
    "#Descripción: Dada una letra, verifica si es una vocal o una consonante.\n",
    "letra = \"f\"\n",
    "vocales = [\"a\", \"e\", \"i\", \"o\", \"u\"] #si la lista fuera muy grande, de consonantes, que pasaria?\n",
    "if letra != vocales:\n",
    "    print(\"es una consonante\")\n",
    "else:\n",
    "    print(\"es una vocal\")"
   ]
  },
  {
   "cell_type": "code",
   "execution_count": 20,
   "metadata": {},
   "outputs": [
    {
     "name": "stdout",
     "output_type": "stream",
     "text": [
      "se le ha aplicado un descuento del 10% y el importe es: 900.0\n"
     ]
    }
   ],
   "source": [
    "#6 Calcular el descuento en una compra según el monto total\n",
    "#Descripción: Dado el monto total de una compra, calcula el descuento aplicado según \n",
    "# las siguientes condiciones: si el monto es mayor o igual a $100, \n",
    "# aplica un descuento del 10%; de lo contrario, no aplica ningún descuento.\n",
    "monto = 1000\n",
    "if monto >= 100:\n",
    "    descuento_monto = monto - (monto * 10)/100\n",
    "    print(\"se le ha aplicado un descuento del 10% y el importe es:\", descuento_monto)\n",
    "else:\n",
    "    print(\"el importe a pagar es\", monto)"
   ]
  },
  {
   "cell_type": "code",
   "execution_count": null,
   "metadata": {},
   "outputs": [],
   "source": [
    "#7 Verificar si un año es bisiesto o no\n",
    "#Descripción: Dado un año, verifica si es bisiesto o no (un año es bisiesto si es \n",
    "# divisible entre 4, excepto aquellos divisibles entre 100 pero no entre 400).\n",
    "año = 1988\n",
    "año_bisiesto = año/4\n"
   ]
  },
  {
   "cell_type": "code",
   "execution_count": 21,
   "metadata": {},
   "outputs": [
    {
     "name": "stdout",
     "output_type": "stream",
     "text": [
      " Adulto\n"
     ]
    }
   ],
   "source": [
    "#8 Asignar una categoría a una edad\n",
    "#Descripción: Dada una edad, asigna una categoría según las siguientes condiciones: \n",
    "# si la edad es menor de 18, la categoría es \"Menor de edad\"; \n",
    "# si la edad está entre 18 y 64 (incluyendo ambos), la categoría es \"Adulto\"; \n",
    "# de lo contrario, la categoría es \"Adulto mayor\".\n",
    "edad = 36\n",
    "if edad < 18:\n",
    "    print(\"es menor de edad\")\n",
    "elif 18 <= edad <= 64:\n",
    "    print(\" Adulto\")\n",
    "else: \n",
    "    print(\"Adulto mayor\")"
   ]
  },
  {
   "cell_type": "code",
   "execution_count": 27,
   "metadata": {},
   "outputs": [
    {
     "name": "stdout",
     "output_type": "stream",
     "text": [
      "no se cumple el teorema de pitagoras\n"
     ]
    }
   ],
   "source": [
    "#9 Verificar si tres números forman un triángulo rectángulo\n",
    "#Descripción: Dados tres números, verifica si forman un triángulo rectángulo \n",
    "# (si se cumple el teorema de Pitágoras).\n",
    "a = 23\n",
    "b = 50\n",
    "c = 32\n",
    "codigo_pitagoras = a ** 2 + b ** 2 == c ** 2\n",
    "if codigo_pitagoras == True:\n",
    "    print(\"se cumple el teorema de Pitágoras\")\n",
    "else:\n",
    "    print(\"no se cumple el teorema de pitagoras\")"
   ]
  },
  {
   "cell_type": "code",
   "execution_count": null,
   "metadata": {},
   "outputs": [],
   "source": [
    "#10 Asignar una calificación a una puntuación\n",
    "#Descripción: Dada una puntuación, asigna una calificación según las siguientes condiciones: \n",
    "# si la puntuación es mayor o igual a 90, la calificación es \"A\"; si es mayor o igual a 80, \n",
    "# la calificación es \"B\"; si es mayor o igual a 70, la calificación es \"C\"; \n",
    "# si es mayor o igual a 60, la calificación es \"D\"; de lo contrario, la calificación es \"F\"."
   ]
  },
  {
   "cell_type": "code",
   "execution_count": null,
   "metadata": {},
   "outputs": [],
   "source": [
    "#11 alcular el índice de masa corporal (IMC) y categorizarlo\n",
    "#Descripción: Dados el peso (en kg) y la altura (en metros) de una persona, \n",
    "# calcula su IMC y categorízalo según las siguientes condiciones: si el IMC es menor a 18.5,\n",
    "#  es \"Bajo peso\"; si está entre 18.5 y 24.9 (inclusive), es \"Peso normal\"; \n",
    "# si está entre 25 y 29.9 (inclusive), es \"Sobrepeso\"; de lo contrario, es \"Obesidad\"."
   ]
  },
  {
   "cell_type": "code",
   "execution_count": null,
   "metadata": {},
   "outputs": [],
   "source": [
    "#12 Calcular el mayor de tres números\n",
    "#Descripción: Dados tres números, encuentra el mayor entre ellos."
   ]
  },
  {
   "cell_type": "code",
   "execution_count": null,
   "metadata": {},
   "outputs": [],
   "source": [
    "#BONUS\n",
    "#Verificar la validez de una fecha\n",
    "#Descripción: Dados el día, el mes y el año de una fecha, verifica si la fecha es válida."
   ]
  },
  {
   "cell_type": "code",
   "execution_count": null,
   "metadata": {},
   "outputs": [],
   "source": [
    "#WHILE\n",
    "#Calcular la suma de los primeros 10 números naturales utilizando un bucle while\n",
    "#Descripción: Utiliza un bucle while para calcular la suma de los primeros 10 números naturales \n",
    "# (1 + 2 + 3 + ... + 10)."
   ]
  },
  {
   "cell_type": "code",
   "execution_count": null,
   "metadata": {},
   "outputs": [],
   "source": [
    "# WHILE \n",
    "#Juego de adivinanza utilizando un bucle while\n",
    "#Descripción: Crea un juego de adivinanza en el que el jugador tiene que adivinar un \n",
    "#número secreto (tendrá que ser entre el 0 y el 10). \n",
    "# Utiliza un bucle while para permitir múltiples intentos hasta que el jugador adivine \n",
    "# correctamente."
   ]
  }
 ],
 "metadata": {
  "kernelspec": {
   "display_name": "Python 3",
   "language": "python",
   "name": "python3"
  },
  "language_info": {
   "codemirror_mode": {
    "name": "ipython",
    "version": 3
   },
   "file_extension": ".py",
   "mimetype": "text/x-python",
   "name": "python",
   "nbconvert_exporter": "python",
   "pygments_lexer": "ipython3",
   "version": "3.12.4"
  }
 },
 "nbformat": 4,
 "nbformat_minor": 2
}
