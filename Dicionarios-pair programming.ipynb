{
 "cells": [
  {
   "cell_type": "code",
   "execution_count": 1,
   "metadata": {},
   "outputs": [],
   "source": [
    "#Crea una diicionario vacio\n",
    "Diccionario_vacio={}"
   ]
  },
  {
   "cell_type": "code",
   "execution_count": 3,
   "metadata": {},
   "outputs": [
    {
     "name": "stdout",
     "output_type": "stream",
     "text": [
      "{'manzana': 100, ' pera': 125, 'platano': 220, 'tomates': 456, 'aceite': 938}\n"
     ]
    }
   ],
   "source": [
    "# crea dicc con elementos\n",
    "diccionario_lleno= {\"manzana\": 100, \" pera\": 125, \"platano\": 220, \"tomates\": 456, \"aceite\" : 938}\n",
    "print(diccionario_lleno)"
   ]
  },
  {
   "cell_type": "code",
   "execution_count": 12,
   "metadata": {},
   "outputs": [
    {
     "name": "stdout",
     "output_type": "stream",
     "text": [
      "el alimento que has elegido es: platano Y cuesta : 220\n"
     ]
    }
   ],
   "source": [
    "#3\n",
    "alimentos =input(\"elige un alimeto\")\n",
    "valor=diccionario_lleno.get(alimentos,\"ALIEMETO NO DISPONIBLE\")\n",
    "print(\"el alimento que has elegido es:\", alimentos,\"Y cuesta :\",valor)\n",
    "\n"
   ]
  },
  {
   "cell_type": "code",
   "execution_count": 16,
   "metadata": {},
   "outputs": [],
   "source": [
    "#4Agregar clave:valor a diccion\n",
    "diccionario_lleno[\"pepino\"]=400"
   ]
  },
  {
   "cell_type": "code",
   "execution_count": 17,
   "metadata": {},
   "outputs": [
    {
     "name": "stdout",
     "output_type": "stream",
     "text": [
      "{'manzana': 100, ' pera': 125, 'platano': 220, 'tomates': 456, 'aceite': 938, 'pepino': 400}\n"
     ]
    }
   ],
   "source": [
    "print(diccionario_lleno)"
   ]
  },
  {
   "cell_type": "code",
   "execution_count": 18,
   "metadata": {},
   "outputs": [
    {
     "name": "stdout",
     "output_type": "stream",
     "text": [
      "{'manzana': 100, ' pera': 125, 'platano': 220, 'tomates': 456, 'aceite': 938, 'pepino': 250}\n"
     ]
    }
   ],
   "source": [
    "#5Actualiza valor de una clav\n",
    "diccionario_lleno[\"pepino\"]=250\n",
    "print(diccionario_lleno)"
   ]
  },
  {
   "cell_type": "code",
   "execution_count": 20,
   "metadata": {},
   "outputs": [
    {
     "name": "stdout",
     "output_type": "stream",
     "text": [
      "has eliminado el alimento : pepino ALIEMETO NO DISPONIBLE\n",
      "{'manzana': 100, ' pera': 125, 'platano': 220, 'tomates': 456, 'aceite': 938}\n"
     ]
    }
   ],
   "source": [
    "#6Eliminar clave:valor\n",
    "alimentos =input(\"elige un alimeto\")\n",
    "clave_eliminada=diccionario_lleno.pop(alimentos,\"ALIEMETO NO DISPONIBLE\")\n",
    "print(\"has eliminado el alimento :\", alimentos, clave_eliminada)\n",
    "print(diccionario_lleno)\n"
   ]
  },
  {
   "cell_type": "code",
   "execution_count": 24,
   "metadata": {},
   "outputs": [
    {
     "name": "stdout",
     "output_type": "stream",
     "text": [
      "el alimento elegidoes: tomates\n"
     ]
    }
   ],
   "source": [
    "#7Verifica una calve en dcc, con input.\n",
    "alimentos =input(\"elige un alimento\")\n",
    "alimentos_elegido=diccionario_lleno.get(alimentos,\"none\")\n",
    "print(f\"el alimento elegidoes:\" ,alimentos)\n",
    "\n"
   ]
  },
  {
   "cell_type": "code",
   "execution_count": 26,
   "metadata": {},
   "outputs": [
    {
     "data": {
      "text/plain": [
       "dict_keys(['manzana', ' pera', 'platano', 'tomates', 'aceite'])"
      ]
     },
     "execution_count": 26,
     "metadata": {},
     "output_type": "execute_result"
    }
   ],
   "source": [
    "#8 Obtener una lista lista de todas la claves de un diccionario\n",
    "diccionario_lleno.keys()\n"
   ]
  },
  {
   "cell_type": "code",
   "execution_count": 27,
   "metadata": {},
   "outputs": [
    {
     "data": {
      "text/plain": [
       "dict_values([100, 125, 220, 456, 938])"
      ]
     },
     "execution_count": 27,
     "metadata": {},
     "output_type": "execute_result"
    }
   ],
   "source": [
    "#9obtener una lista de los valores\n",
    "diccionario_lleno.values()"
   ]
  },
  {
   "cell_type": "code",
   "execution_count": 32,
   "metadata": {},
   "outputs": [
    {
     "name": "stdout",
     "output_type": "stream",
     "text": [
      "None\n"
     ]
    }
   ],
   "source": [
    "#con set.default \n",
    "print(diccionario_lleno.setdefault(\"papaya\",\"no existe\"]))"
   ]
  },
  {
   "cell_type": "code",
   "execution_count": 33,
   "metadata": {},
   "outputs": [
    {
     "name": "stdout",
     "output_type": "stream",
     "text": [
      "{'manzana': 100, ' pera': 125, 'platano': 220, 'tomates': 456, 'aceite': 938, 'papaya': None}\n"
     ]
    }
   ],
   "source": [
    "print(diccionario_lleno)"
   ]
  }
 ],
 "metadata": {
  "kernelspec": {
   "display_name": "base",
   "language": "python",
   "name": "python3"
  },
  "language_info": {
   "codemirror_mode": {
    "name": "ipython",
    "version": 3
   },
   "file_extension": ".py",
   "mimetype": "text/x-python",
   "name": "python",
   "nbconvert_exporter": "python",
   "pygments_lexer": "ipython3",
   "version": "3.11.7"
  }
 },
 "nbformat": 4,
 "nbformat_minor": 2
}
